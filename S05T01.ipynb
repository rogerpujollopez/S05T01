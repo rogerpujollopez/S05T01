{
 "cells": [
  {
   "cell_type": "markdown",
   "id": "3cbf332b",
   "metadata": {},
   "source": [
    "# S05 T01: Tasca mètodes de mostreig"
   ]
  },
  {
   "cell_type": "markdown",
   "id": "d3d7de05",
   "metadata": {},
   "source": [
    "### Antecedents:"
   ]
  },
  {
   "cell_type": "markdown",
   "id": "76ff7a7c",
   "metadata": {},
   "source": [
    "#### No havia caigut que al exportar en html, que arrosega tot els DataFrame. He afegit a totes les visualitzacions el head() perque nomes ensenyi els primers valors."
   ]
  },
  {
   "cell_type": "markdown",
   "id": "52d706eb",
   "metadata": {},
   "source": [
    "## Descripció"
   ]
  },
  {
   "cell_type": "markdown",
   "id": "fb6b54ab",
   "metadata": {},
   "source": [
    "#### Aprèn a realitzar mostreig de les dades amb Python"
   ]
  },
  {
   "cell_type": "markdown",
   "id": "c0294e62",
   "metadata": {},
   "source": [
    "### Nivell 1"
   ]
  },
  {
   "cell_type": "markdown",
   "id": "ff9f81ba",
   "metadata": {},
   "source": [
    "### Exercici 1"
   ]
  },
  {
   "cell_type": "markdown",
   "id": "2fb5e33a",
   "metadata": {},
   "source": [
    "#### Agafa un conjunt de dades de tema esportiu que t'agradi. Realitza un mostreig de les dades generant una mostra aleatòria simple i una mostra sistemàtica."
   ]
  },
  {
   "cell_type": "markdown",
   "id": "621bbe42",
   "metadata": {},
   "source": [
    "#### Instalem llibreria SMOTE"
   ]
  },
  {
   "cell_type": "code",
   "execution_count": 3,
   "id": "79e71498",
   "metadata": {},
   "outputs": [
    {
     "name": "stdout",
     "output_type": "stream",
     "text": [
      "Collecting imbalanced-learn\n",
      "  Using cached imbalanced_learn-0.9.1-py3-none-any.whl (199 kB)\n",
      "Requirement already satisfied: scipy>=1.3.2 in c:\\programdata\\anaconda3\\lib\\site-packages (from imbalanced-learn) (1.7.3)\n",
      "Requirement already satisfied: joblib>=1.0.0 in c:\\programdata\\anaconda3\\lib\\site-packages (from imbalanced-learn) (1.1.0)\n",
      "Requirement already satisfied: scikit-learn>=1.1.0 in c:\\programdata\\anaconda3\\lib\\site-packages (from imbalanced-learn) (1.1.0)\n",
      "Requirement already satisfied: numpy>=1.17.3 in c:\\programdata\\anaconda3\\lib\\site-packages (from imbalanced-learn) (1.21.5)\n",
      "Requirement already satisfied: threadpoolctl>=2.0.0 in c:\\programdata\\anaconda3\\lib\\site-packages (from imbalanced-learn) (2.2.0)\n",
      "Installing collected packages: imbalanced-learn\n",
      "Successfully installed imbalanced-learn-0.9.1\n",
      "Note: you may need to restart the kernel to use updated packages.\n"
     ]
    }
   ],
   "source": [
    "pip install -U imbalanced-learn"
   ]
  },
  {
   "cell_type": "markdown",
   "id": "437e6a3f",
   "metadata": {},
   "source": [
    "#### Importem llibreria"
   ]
  },
  {
   "cell_type": "code",
   "execution_count": 1,
   "id": "caedfff9",
   "metadata": {},
   "outputs": [],
   "source": [
    "from imblearn import under_sampling, over_sampling"
   ]
  },
  {
   "cell_type": "markdown",
   "id": "d29be36f",
   "metadata": {},
   "source": [
    "#### Importem llibreries"
   ]
  },
  {
   "cell_type": "code",
   "execution_count": 2,
   "id": "0b37c53c",
   "metadata": {},
   "outputs": [],
   "source": [
    "import urllib\n",
    "import numpy as np\n",
    "import pandas as pd\n",
    "import matplotlib.pyplot as plt\n",
    "import seaborn as sns\n",
    "import warnings\n",
    "from geolite2 import geolite2\n",
    "from scipy.stats import skew\n",
    "\n",
    "warnings.filterwarnings('ignore')"
   ]
  },
  {
   "cell_type": "markdown",
   "id": "bc9d140e",
   "metadata": {},
   "source": [
    "#### He agafat un DataSet de una base de dades que tinc. No hi han dades personals ni confidencials. Les dades que conté son manteniments d'elements de Protecció Contra Incendis"
   ]
  },
  {
   "cell_type": "code",
   "execution_count": 3,
   "id": "9de5ac5d",
   "metadata": {},
   "outputs": [
    {
     "name": "stdout",
     "output_type": "stream",
     "text": [
      "WARNING *** OLE2 inconsistency: SSCS size is 0 but SSAT size is non-zero\n"
     ]
    }
   ],
   "source": [
    "man=pd.read_excel('dataframeman.xls', index_col=0)\n",
    "man.drop('emp', inplace=True, axis=1)"
   ]
  },
  {
   "cell_type": "markdown",
   "id": "9eb16e60",
   "metadata": {},
   "source": [
    "#### Visualitzem els promers registres per revisar que tinguem contingut al DataFrame"
   ]
  },
  {
   "cell_type": "code",
   "execution_count": 4,
   "id": "44dd78ca",
   "metadata": {},
   "outputs": [
    {
     "data": {
      "text/html": [
       "<div>\n",
       "<style scoped>\n",
       "    .dataframe tbody tr th:only-of-type {\n",
       "        vertical-align: middle;\n",
       "    }\n",
       "\n",
       "    .dataframe tbody tr th {\n",
       "        vertical-align: top;\n",
       "    }\n",
       "\n",
       "    .dataframe thead th {\n",
       "        text-align: right;\n",
       "    }\n",
       "</style>\n",
       "<table border=\"1\" class=\"dataframe\">\n",
       "  <thead>\n",
       "    <tr style=\"text-align: right;\">\n",
       "      <th></th>\n",
       "      <th>fe_al_det</th>\n",
       "      <th>id_cli2</th>\n",
       "      <th>id_serv2</th>\n",
       "      <th>serv</th>\n",
       "      <th>fe_al_man</th>\n",
       "      <th>id_man2</th>\n",
       "      <th>perivis</th>\n",
       "      <th>mes</th>\n",
       "      <th>dir</th>\n",
       "      <th>pob</th>\n",
       "      <th>pro</th>\n",
       "      <th>cp</th>\n",
       "      <th>pai</th>\n",
       "      <th>id_vehi2</th>\n",
       "      <th>bastidor</th>\n",
       "      <th>ubi</th>\n",
       "      <th>any</th>\n",
       "      <th>tipo</th>\n",
       "      <th>marca</th>\n",
       "    </tr>\n",
       "    <tr>\n",
       "      <th>id_mandet</th>\n",
       "      <th></th>\n",
       "      <th></th>\n",
       "      <th></th>\n",
       "      <th></th>\n",
       "      <th></th>\n",
       "      <th></th>\n",
       "      <th></th>\n",
       "      <th></th>\n",
       "      <th></th>\n",
       "      <th></th>\n",
       "      <th></th>\n",
       "      <th></th>\n",
       "      <th></th>\n",
       "      <th></th>\n",
       "      <th></th>\n",
       "      <th></th>\n",
       "      <th></th>\n",
       "      <th></th>\n",
       "      <th></th>\n",
       "    </tr>\n",
       "  </thead>\n",
       "  <tbody>\n",
       "    <tr>\n",
       "      <th>8498</th>\n",
       "      <td>2018-05-09 08:59:11.717000000</td>\n",
       "      <td>24133</td>\n",
       "      <td>32.0</td>\n",
       "      <td>Revisión/Mantenimiento Extintor  POLVO ABC 6 KG</td>\n",
       "      <td>2018-05-09 08:59:11.590000000</td>\n",
       "      <td>1</td>\n",
       "      <td>1800</td>\n",
       "      <td>9</td>\n",
       "      <td>RIAL PASCUAL 23</td>\n",
       "      <td>ARENYS DE MUNT</td>\n",
       "      <td>BARCELONA</td>\n",
       "      <td>NaN</td>\n",
       "      <td>ESPAÑA</td>\n",
       "      <td>1.0</td>\n",
       "      <td>NaN</td>\n",
       "      <td>taller</td>\n",
       "      <td>0.0</td>\n",
       "      <td>Extintores Polvo ABC 6Kg</td>\n",
       "      <td>EXFAEX</td>\n",
       "    </tr>\n",
       "    <tr>\n",
       "      <th>8499</th>\n",
       "      <td>2018-05-09 08:59:11.717000000</td>\n",
       "      <td>24133</td>\n",
       "      <td>32.0</td>\n",
       "      <td>Revisión/Mantenimiento Extintor  POLVO ABC 6 KG</td>\n",
       "      <td>2018-05-09 08:59:11.590000000</td>\n",
       "      <td>1</td>\n",
       "      <td>1800</td>\n",
       "      <td>9</td>\n",
       "      <td>RIAL PASCUAL 23</td>\n",
       "      <td>ARENYS DE MUNT</td>\n",
       "      <td>BARCELONA</td>\n",
       "      <td>NaN</td>\n",
       "      <td>ESPAÑA</td>\n",
       "      <td>2.0</td>\n",
       "      <td>NaN</td>\n",
       "      <td>taller</td>\n",
       "      <td>0.0</td>\n",
       "      <td>Extintores Polvo ABC 6Kg</td>\n",
       "      <td>EXFAEX</td>\n",
       "    </tr>\n",
       "    <tr>\n",
       "      <th>8500</th>\n",
       "      <td>2018-05-09 08:59:26.717000000</td>\n",
       "      <td>25847</td>\n",
       "      <td>32.0</td>\n",
       "      <td>Revisión/Mantenimiento Extintor  POLVO ABC 6 KG</td>\n",
       "      <td>2018-05-09 08:59:26.590000000</td>\n",
       "      <td>2</td>\n",
       "      <td>360</td>\n",
       "      <td>2</td>\n",
       "      <td>RICART 46-48</td>\n",
       "      <td>SANT ADRIÀ DEL BESOS</td>\n",
       "      <td>BARCELONA</td>\n",
       "      <td>8930.0</td>\n",
       "      <td>ESPAÑA</td>\n",
       "      <td>3.0</td>\n",
       "      <td>4165549</td>\n",
       "      <td>3 planta</td>\n",
       "      <td>2014.0</td>\n",
       "      <td>Extintores Polvo ABC 6Kg</td>\n",
       "      <td>EXFAEX</td>\n",
       "    </tr>\n",
       "    <tr>\n",
       "      <th>8501</th>\n",
       "      <td>2018-05-09 08:59:26.717000000</td>\n",
       "      <td>25847</td>\n",
       "      <td>32.0</td>\n",
       "      <td>Revisión/Mantenimiento Extintor  POLVO ABC 6 KG</td>\n",
       "      <td>2018-05-09 08:59:26.590000000</td>\n",
       "      <td>2</td>\n",
       "      <td>360</td>\n",
       "      <td>2</td>\n",
       "      <td>RICART 46-48</td>\n",
       "      <td>SANT ADRIÀ DEL BESOS</td>\n",
       "      <td>BARCELONA</td>\n",
       "      <td>8930.0</td>\n",
       "      <td>ESPAÑA</td>\n",
       "      <td>4.0</td>\n",
       "      <td>1637383</td>\n",
       "      <td>4 planta</td>\n",
       "      <td>2004.0</td>\n",
       "      <td>Extintores Polvo ABC 6Kg</td>\n",
       "      <td>EXFAEX</td>\n",
       "    </tr>\n",
       "    <tr>\n",
       "      <th>8503</th>\n",
       "      <td>2018-05-09 08:59:26.730000000</td>\n",
       "      <td>25847</td>\n",
       "      <td>32.0</td>\n",
       "      <td>Revisión/Mantenimiento Extintor  POLVO ABC 6 KG</td>\n",
       "      <td>2018-05-09 08:59:26.590000000</td>\n",
       "      <td>2</td>\n",
       "      <td>360</td>\n",
       "      <td>2</td>\n",
       "      <td>RICART 46-48</td>\n",
       "      <td>SANT ADRIÀ DEL BESOS</td>\n",
       "      <td>BARCELONA</td>\n",
       "      <td>8930.0</td>\n",
       "      <td>ESPAÑA</td>\n",
       "      <td>6.0</td>\n",
       "      <td>1486256</td>\n",
       "      <td>Ascensor</td>\n",
       "      <td>2004.0</td>\n",
       "      <td>Extintores Polvo ABC 6Kg</td>\n",
       "      <td>EXFAEX</td>\n",
       "    </tr>\n",
       "  </tbody>\n",
       "</table>\n",
       "</div>"
      ],
      "text/plain": [
       "                               fe_al_det  id_cli2  id_serv2  \\\n",
       "id_mandet                                                     \n",
       "8498       2018-05-09 08:59:11.717000000    24133      32.0   \n",
       "8499       2018-05-09 08:59:11.717000000    24133      32.0   \n",
       "8500       2018-05-09 08:59:26.717000000    25847      32.0   \n",
       "8501       2018-05-09 08:59:26.717000000    25847      32.0   \n",
       "8503       2018-05-09 08:59:26.730000000    25847      32.0   \n",
       "\n",
       "                                                      serv  \\\n",
       "id_mandet                                                    \n",
       "8498       Revisión/Mantenimiento Extintor  POLVO ABC 6 KG   \n",
       "8499       Revisión/Mantenimiento Extintor  POLVO ABC 6 KG   \n",
       "8500       Revisión/Mantenimiento Extintor  POLVO ABC 6 KG   \n",
       "8501       Revisión/Mantenimiento Extintor  POLVO ABC 6 KG   \n",
       "8503       Revisión/Mantenimiento Extintor  POLVO ABC 6 KG   \n",
       "\n",
       "                               fe_al_man  id_man2  perivis  mes  \\\n",
       "id_mandet                                                         \n",
       "8498       2018-05-09 08:59:11.590000000        1     1800    9   \n",
       "8499       2018-05-09 08:59:11.590000000        1     1800    9   \n",
       "8500       2018-05-09 08:59:26.590000000        2      360    2   \n",
       "8501       2018-05-09 08:59:26.590000000        2      360    2   \n",
       "8503       2018-05-09 08:59:26.590000000        2      360    2   \n",
       "\n",
       "                       dir                   pob        pro      cp     pai  \\\n",
       "id_mandet                                                                     \n",
       "8498       RIAL PASCUAL 23        ARENYS DE MUNT  BARCELONA     NaN  ESPAÑA   \n",
       "8499       RIAL PASCUAL 23        ARENYS DE MUNT  BARCELONA     NaN  ESPAÑA   \n",
       "8500          RICART 46-48  SANT ADRIÀ DEL BESOS  BARCELONA  8930.0  ESPAÑA   \n",
       "8501          RICART 46-48  SANT ADRIÀ DEL BESOS  BARCELONA  8930.0  ESPAÑA   \n",
       "8503          RICART 46-48  SANT ADRIÀ DEL BESOS  BARCELONA  8930.0  ESPAÑA   \n",
       "\n",
       "           id_vehi2 bastidor       ubi     any                      tipo  \\\n",
       "id_mandet                                                                  \n",
       "8498            1.0      NaN    taller     0.0  Extintores Polvo ABC 6Kg   \n",
       "8499            2.0      NaN    taller     0.0  Extintores Polvo ABC 6Kg   \n",
       "8500            3.0  4165549  3 planta  2014.0  Extintores Polvo ABC 6Kg   \n",
       "8501            4.0  1637383  4 planta  2004.0  Extintores Polvo ABC 6Kg   \n",
       "8503            6.0  1486256  Ascensor  2004.0  Extintores Polvo ABC 6Kg   \n",
       "\n",
       "            marca  \n",
       "id_mandet          \n",
       "8498       EXFAEX  \n",
       "8499       EXFAEX  \n",
       "8500       EXFAEX  \n",
       "8501       EXFAEX  \n",
       "8503       EXFAEX  "
      ]
     },
     "execution_count": 4,
     "metadata": {},
     "output_type": "execute_result"
    }
   ],
   "source": [
    "man.head()"
   ]
  },
  {
   "cell_type": "markdown",
   "id": "2403830f",
   "metadata": {},
   "source": [
    "#### Visualitzem la longitud del nostra DataFrame"
   ]
  },
  {
   "cell_type": "code",
   "execution_count": 5,
   "id": "3d3444a7",
   "metadata": {},
   "outputs": [
    {
     "data": {
      "text/plain": [
       "65535"
      ]
     },
     "execution_count": 5,
     "metadata": {},
     "output_type": "execute_result"
    }
   ],
   "source": [
    "len(man)"
   ]
  },
  {
   "cell_type": "markdown",
   "id": "0d51112e",
   "metadata": {},
   "source": [
    "#### Generar una mostra aleatòria simple. Fem servir la propietat random_state per mantindre els resultats aleatoris ficses, perque no canvii a cada moment."
   ]
  },
  {
   "cell_type": "code",
   "execution_count": 6,
   "id": "eff83b5d",
   "metadata": {},
   "outputs": [
    {
     "data": {
      "text/html": [
       "<div>\n",
       "<style scoped>\n",
       "    .dataframe tbody tr th:only-of-type {\n",
       "        vertical-align: middle;\n",
       "    }\n",
       "\n",
       "    .dataframe tbody tr th {\n",
       "        vertical-align: top;\n",
       "    }\n",
       "\n",
       "    .dataframe thead th {\n",
       "        text-align: right;\n",
       "    }\n",
       "</style>\n",
       "<table border=\"1\" class=\"dataframe\">\n",
       "  <thead>\n",
       "    <tr style=\"text-align: right;\">\n",
       "      <th></th>\n",
       "      <th>fe_al_det</th>\n",
       "      <th>id_cli2</th>\n",
       "      <th>id_serv2</th>\n",
       "      <th>serv</th>\n",
       "      <th>fe_al_man</th>\n",
       "      <th>id_man2</th>\n",
       "      <th>perivis</th>\n",
       "      <th>mes</th>\n",
       "      <th>dir</th>\n",
       "      <th>pob</th>\n",
       "      <th>pro</th>\n",
       "      <th>cp</th>\n",
       "      <th>pai</th>\n",
       "      <th>id_vehi2</th>\n",
       "      <th>bastidor</th>\n",
       "      <th>ubi</th>\n",
       "      <th>any</th>\n",
       "      <th>tipo</th>\n",
       "      <th>marca</th>\n",
       "    </tr>\n",
       "    <tr>\n",
       "      <th>id_mandet</th>\n",
       "      <th></th>\n",
       "      <th></th>\n",
       "      <th></th>\n",
       "      <th></th>\n",
       "      <th></th>\n",
       "      <th></th>\n",
       "      <th></th>\n",
       "      <th></th>\n",
       "      <th></th>\n",
       "      <th></th>\n",
       "      <th></th>\n",
       "      <th></th>\n",
       "      <th></th>\n",
       "      <th></th>\n",
       "      <th></th>\n",
       "      <th></th>\n",
       "      <th></th>\n",
       "      <th></th>\n",
       "      <th></th>\n",
       "    </tr>\n",
       "  </thead>\n",
       "  <tbody>\n",
       "    <tr>\n",
       "      <th>110159</th>\n",
       "      <td>2019-04-01 03:31:01.643000000</td>\n",
       "      <td>25965</td>\n",
       "      <td>NaN</td>\n",
       "      <td>NaN</td>\n",
       "      <td>2019-04-01 03:31:01.563000000</td>\n",
       "      <td>14819</td>\n",
       "      <td>360</td>\n",
       "      <td>4</td>\n",
       "      <td>VIRGEN DE MONTSERRAT 8</td>\n",
       "      <td>MOIA</td>\n",
       "      <td>BRCELONA</td>\n",
       "      <td>8180.0</td>\n",
       "      <td>ESPAÑA</td>\n",
       "      <td>84015.0</td>\n",
       "      <td>04949</td>\n",
       "      <td>local</td>\n",
       "      <td>2005.0</td>\n",
       "      <td>Extintores Polvo ABC 6Kg</td>\n",
       "      <td>ORFEO</td>\n",
       "    </tr>\n",
       "    <tr>\n",
       "      <th>109780</th>\n",
       "      <td>2019-04-01 03:26:54.543000000</td>\n",
       "      <td>25878</td>\n",
       "      <td>NaN</td>\n",
       "      <td>NaN</td>\n",
       "      <td>2019-04-01 03:26:54.480000000</td>\n",
       "      <td>14763</td>\n",
       "      <td>360</td>\n",
       "      <td>4</td>\n",
       "      <td>C/ DOCTOR PAGES, 114</td>\n",
       "      <td>SANTA COLOMA DE GRAMANET</td>\n",
       "      <td>BARCELONA</td>\n",
       "      <td>8920.0</td>\n",
       "      <td>ESPAÑA</td>\n",
       "      <td>83799.0</td>\n",
       "      <td>4717491</td>\n",
       "      <td>Entlo.</td>\n",
       "      <td>2016.0</td>\n",
       "      <td>Extintores Polvo ABC 6Kg</td>\n",
       "      <td>EXFAEX</td>\n",
       "    </tr>\n",
       "    <tr>\n",
       "      <th>63829</th>\n",
       "      <td>2018-10-01 12:14:46.973000000</td>\n",
       "      <td>24554</td>\n",
       "      <td>NaN</td>\n",
       "      <td>NaN</td>\n",
       "      <td>2018-10-01 12:14:46.910000000</td>\n",
       "      <td>7625</td>\n",
       "      <td>90</td>\n",
       "      <td>10</td>\n",
       "      <td>C/ FRANCESC MACIA, 23-25</td>\n",
       "      <td>SANTA EULALIA DE RONSANA</td>\n",
       "      <td>BARCELONA</td>\n",
       "      <td>187.0</td>\n",
       "      <td>ESPAÑA</td>\n",
       "      <td>45505.0</td>\n",
       "      <td>7177</td>\n",
       "      <td>cuadro eléctrico</td>\n",
       "      <td>2005.0</td>\n",
       "      <td>Extintores Polvo ABC 6Kg</td>\n",
       "      <td>GISA</td>\n",
       "    </tr>\n",
       "    <tr>\n",
       "      <th>22270</th>\n",
       "      <td>2018-06-01 07:20:57.257000000</td>\n",
       "      <td>10012</td>\n",
       "      <td>32.0</td>\n",
       "      <td>Revisión/Mantenimiento Extintor  POLVO ABC 6 KG</td>\n",
       "      <td>2018-06-01 07:20:57.177000000</td>\n",
       "      <td>2107</td>\n",
       "      <td>360</td>\n",
       "      <td>6</td>\n",
       "      <td>GUATEMALA,19-21 (MONTURIOL N/N/</td>\n",
       "      <td>BARCELONA</td>\n",
       "      <td>BARCELONA</td>\n",
       "      <td>8018.0</td>\n",
       "      <td>ESPAÑA</td>\n",
       "      <td>12939.0</td>\n",
       "      <td>3735209</td>\n",
       "      <td>1 planta</td>\n",
       "      <td>2012.0</td>\n",
       "      <td>Extintores Polvo ABC 6Kg</td>\n",
       "      <td>EXFAEX</td>\n",
       "    </tr>\n",
       "    <tr>\n",
       "      <th>10126</th>\n",
       "      <td>2018-05-09 09:10:56.747000000</td>\n",
       "      <td>19001</td>\n",
       "      <td>32.0</td>\n",
       "      <td>Revisión/Mantenimiento Extintor  POLVO ABC 6 KG</td>\n",
       "      <td>2018-05-09 09:10:56.607000000</td>\n",
       "      <td>154</td>\n",
       "      <td>90</td>\n",
       "      <td>5</td>\n",
       "      <td>RIERA LA SALUD,30-B</td>\n",
       "      <td>SANT FELIU DE LLOBREGAT</td>\n",
       "      <td>BARCELONA</td>\n",
       "      <td>8980.0</td>\n",
       "      <td>ESPAÑA</td>\n",
       "      <td>1627.0</td>\n",
       "      <td>6146418</td>\n",
       "      <td>2 planta</td>\n",
       "      <td>2021.0</td>\n",
       "      <td>Extintores Polvo ABC 6Kg</td>\n",
       "      <td>EXFAEX</td>\n",
       "    </tr>\n",
       "  </tbody>\n",
       "</table>\n",
       "</div>"
      ],
      "text/plain": [
       "                               fe_al_det  id_cli2  id_serv2  \\\n",
       "id_mandet                                                     \n",
       "110159     2019-04-01 03:31:01.643000000    25965       NaN   \n",
       "109780     2019-04-01 03:26:54.543000000    25878       NaN   \n",
       "63829      2018-10-01 12:14:46.973000000    24554       NaN   \n",
       "22270      2018-06-01 07:20:57.257000000    10012      32.0   \n",
       "10126      2018-05-09 09:10:56.747000000    19001      32.0   \n",
       "\n",
       "                                                      serv  \\\n",
       "id_mandet                                                    \n",
       "110159                                                 NaN   \n",
       "109780                                                 NaN   \n",
       "63829                                                  NaN   \n",
       "22270      Revisión/Mantenimiento Extintor  POLVO ABC 6 KG   \n",
       "10126      Revisión/Mantenimiento Extintor  POLVO ABC 6 KG   \n",
       "\n",
       "                               fe_al_man  id_man2  perivis  mes  \\\n",
       "id_mandet                                                         \n",
       "110159     2019-04-01 03:31:01.563000000    14819      360    4   \n",
       "109780     2019-04-01 03:26:54.480000000    14763      360    4   \n",
       "63829      2018-10-01 12:14:46.910000000     7625       90   10   \n",
       "22270      2018-06-01 07:20:57.177000000     2107      360    6   \n",
       "10126      2018-05-09 09:10:56.607000000      154       90    5   \n",
       "\n",
       "                                       dir                       pob  \\\n",
       "id_mandet                                                              \n",
       "110159              VIRGEN DE MONTSERRAT 8                      MOIA   \n",
       "109780                C/ DOCTOR PAGES, 114  SANTA COLOMA DE GRAMANET   \n",
       "63829             C/ FRANCESC MACIA, 23-25  SANTA EULALIA DE RONSANA   \n",
       "22270      GUATEMALA,19-21 (MONTURIOL N/N/                 BARCELONA   \n",
       "10126                  RIERA LA SALUD,30-B   SANT FELIU DE LLOBREGAT   \n",
       "\n",
       "                  pro      cp     pai  id_vehi2 bastidor               ubi  \\\n",
       "id_mandet                                                                    \n",
       "110159       BRCELONA  8180.0  ESPAÑA   84015.0    04949             local   \n",
       "109780      BARCELONA  8920.0  ESPAÑA   83799.0  4717491            Entlo.   \n",
       "63829      BARCELONA    187.0  ESPAÑA   45505.0     7177  cuadro eléctrico   \n",
       "22270       BARCELONA  8018.0  ESPAÑA   12939.0  3735209          1 planta   \n",
       "10126       BARCELONA  8980.0  ESPAÑA    1627.0  6146418          2 planta   \n",
       "\n",
       "              any                      tipo   marca  \n",
       "id_mandet                                            \n",
       "110159     2005.0  Extintores Polvo ABC 6Kg   ORFEO  \n",
       "109780     2016.0  Extintores Polvo ABC 6Kg  EXFAEX  \n",
       "63829      2005.0  Extintores Polvo ABC 6Kg    GISA  \n",
       "22270      2012.0  Extintores Polvo ABC 6Kg  EXFAEX  \n",
       "10126      2021.0  Extintores Polvo ABC 6Kg  EXFAEX  "
      ]
     },
     "execution_count": 6,
     "metadata": {},
     "output_type": "execute_result"
    }
   ],
   "source": [
    "man.sample(frac=0.1, random_state=1).head()"
   ]
  },
  {
   "cell_type": "markdown",
   "id": "70800cfd",
   "metadata": {},
   "source": [
    "#### Revisem el tipus de camp de cada columna. Les dates estan com a objecte no com a data."
   ]
  },
  {
   "cell_type": "code",
   "execution_count": 7,
   "id": "33a7cffe",
   "metadata": {},
   "outputs": [
    {
     "data": {
      "text/plain": [
       "fe_al_det     object\n",
       "id_cli2        int64\n",
       "id_serv2     float64\n",
       "serv          object\n",
       "fe_al_man     object\n",
       "id_man2        int64\n",
       "perivis        int64\n",
       "mes            int64\n",
       "dir           object\n",
       "pob           object\n",
       "pro           object\n",
       "cp           float64\n",
       "pai           object\n",
       "id_vehi2     float64\n",
       "bastidor      object\n",
       "ubi           object\n",
       "any          float64\n",
       "tipo          object\n",
       "marca         object\n",
       "dtype: object"
      ]
     },
     "execution_count": 7,
     "metadata": {},
     "output_type": "execute_result"
    }
   ],
   "source": [
    "man.dtypes"
   ]
  },
  {
   "cell_type": "markdown",
   "id": "72e5205e",
   "metadata": {},
   "source": [
    "#### Canviem el tipus de camp"
   ]
  },
  {
   "cell_type": "code",
   "execution_count": 8,
   "id": "76c87205",
   "metadata": {},
   "outputs": [],
   "source": [
    "man['fe_al_det']= pd.to_datetime(man['fe_al_det'])\n",
    "man['fe_al_man']= pd.to_datetime(man['fe_al_man'])\n",
    "man['serv'] = pd.Series(man['serv'], dtype=\"string\")\n",
    "man['dir'] = pd.Series(man['dir'], dtype=\"string\")\n",
    "man['pob'] = pd.Series(man['pob'], dtype=\"string\")\n",
    "man['pro'] = pd.Series(man['pro'], dtype=\"string\")\n",
    "man['cp'] = pd.Series(man['cp'], dtype=\"string\")\n",
    "man['pai'] = pd.Series(man['pai'], dtype=\"string\")\n",
    "man['bastidor'] = pd.Series(man['bastidor'], dtype=\"string\")\n",
    "man['tipo'] = pd.Series(man['tipo'], dtype=\"string\")\n",
    "man['marca'] = pd.Series(man['marca'], dtype=\"string\")\n",
    "man['ubi'] = pd.Series(man['ubi'], dtype=\"string\")\n",
    "man['id_cli2'] = pd.Series(man['id_cli2'], dtype=\"int64\")\n",
    "man['id_serv2'] = pd.Series(man['id_serv2'], dtype=\"int64\")\n",
    "#man = man.astype({'id_serv2':'int'})\n",
    "man['id_man2'] = pd.Series(man['id_man2'], dtype=\"int64\")\n",
    "man['perivis'] = pd.Series(man['perivis'], dtype=\"int64\")\n",
    "man['mes'] = pd.Series(man['mes'], dtype=\"int64\")\n",
    "man['id_vehi2'] = pd.Series(man['id_vehi2'], dtype=\"int64\")\n",
    "man['any'] = pd.Series(man['any'], dtype=\"int64\")\n"
   ]
  },
  {
   "cell_type": "markdown",
   "id": "64e3c6ea",
   "metadata": {},
   "source": [
    "#### Consultem el nom de les columnes que ha agafat"
   ]
  },
  {
   "cell_type": "code",
   "execution_count": 9,
   "id": "0c4ef63b",
   "metadata": {},
   "outputs": [
    {
     "data": {
      "text/plain": [
       "Index(['fe_al_det', 'id_cli2', 'id_serv2', 'serv', 'fe_al_man', 'id_man2',\n",
       "       'perivis', 'mes', 'dir', 'pob', 'pro', 'cp', 'pai', 'id_vehi2',\n",
       "       'bastidor', 'ubi', 'any', 'tipo', 'marca'],\n",
       "      dtype='object')"
      ]
     },
     "execution_count": 9,
     "metadata": {},
     "output_type": "execute_result"
    }
   ],
   "source": [
    "man.columns"
   ]
  },
  {
   "cell_type": "markdown",
   "id": "4022ae3d",
   "metadata": {},
   "source": [
    "#### Genera una mostra sistemàtica."
   ]
  },
  {
   "cell_type": "markdown",
   "id": "de81f0e9",
   "metadata": {},
   "source": [
    "#### Generem funció per fer el mostreig"
   ]
  },
  {
   "cell_type": "code",
   "execution_count": 11,
   "id": "ca91c9b0",
   "metadata": {},
   "outputs": [],
   "source": [
    "def systematic_sampling(df, step):\n",
    " \n",
    "    indexes = np.arange(0, len(df), step=step)\n",
    "    systematic_sample = df.iloc[indexes]\n",
    "    return systematic_sample"
   ]
  },
  {
   "cell_type": "markdown",
   "id": "f9e73528",
   "metadata": {},
   "source": [
    "#### Agafem un 10% de les mostres, i calculem el valor de salt del mostreig"
   ]
  },
  {
   "cell_type": "code",
   "execution_count": 12,
   "id": "8fcbe79c",
   "metadata": {},
   "outputs": [],
   "source": [
    "num_muestras=int(len(man)/100*10)\n",
    "step=int(len(man)/num_muestras)\n",
    "df = systematic_sampling(man, step)"
   ]
  },
  {
   "cell_type": "markdown",
   "id": "fa771347",
   "metadata": {},
   "source": [
    "#### Visualitzem el nº de mostres que ens han quedat. Confirmem que es un 10% sobre el total."
   ]
  },
  {
   "cell_type": "code",
   "execution_count": 13,
   "id": "7461f8ab",
   "metadata": {},
   "outputs": [
    {
     "data": {
      "text/plain": [
       "6554"
      ]
     },
     "execution_count": 13,
     "metadata": {},
     "output_type": "execute_result"
    }
   ],
   "source": [
    "len(df)"
   ]
  },
  {
   "cell_type": "markdown",
   "id": "b2b8a84d",
   "metadata": {},
   "source": [
    "### Nivell 2"
   ]
  },
  {
   "cell_type": "markdown",
   "id": "54d773ba",
   "metadata": {},
   "source": [
    "### Exercici 2"
   ]
  },
  {
   "cell_type": "markdown",
   "id": "c88c46ac",
   "metadata": {},
   "source": [
    "#### Continua amb el conjunt de dades de tema esportiu i genera una mostra estratificada i una mostra utilitzant SMOTE (Synthetic Minority Oversampling Technique)."
   ]
  },
  {
   "cell_type": "markdown",
   "id": "f0313568",
   "metadata": {},
   "source": [
    "#### Generem una mostra estratificada. Volem que ens reporti x registres en total. Vaig llegir que a partir de 1500 registres, era un bon valor per poder treure dades."
   ]
  },
  {
   "cell_type": "markdown",
   "id": "229337cc",
   "metadata": {},
   "source": [
    "#### Agafem el camp tipo per fer els subgrups"
   ]
  },
  {
   "cell_type": "code",
   "execution_count": 14,
   "id": "6a0ddead",
   "metadata": {},
   "outputs": [
    {
     "data": {
      "text/plain": [
       "<StringArray>\n",
       "[     'Extintores Polvo ABC 6Kg',            'Extintores CO2 5Kg',\n",
       "            'Extintores CO2 2Kg',      'Extintores Polvo ABC 2Kg',\n",
       "      'Extintores Polvo ABC 9Kg',      'Extintores Polvo ABC 3Kg',\n",
       "                          'Ches',                       'BIES 25',\n",
       "        'Detección Convencional',       'Alumbrado de emergencia',\n",
       "         'Gases con ventilación',             'Bombas de Achique',\n",
       "           'Detección Analógica',                  'Baja Tensión',\n",
       "     'Extintores Polvo ABC 25Kg',     'Extintores Polvo ABC 50Kg',\n",
       "             'Extinción Campana',                  'Columna Seca',\n",
       "           'Ventilación Forzada',                    'Rociadores',\n",
       "           'Extintores CO2 10Kg',          'Extinción Automática',\n",
       "      'Extintores Polvo ABC 1Kg',                  'Bomba Diesel',\n",
       "     'Extintores Agua AFFF 6Ltr',         'Gases sin ventilación',\n",
       "     'Extintores Agua AFFF 9Ltr',     'Extintores Polvo ABC 12Kg',\n",
       "        'Fuente de Alimentación', 'Extintores Polvo ABC Auto 6Kg',\n",
       "                            <NA>,               'Bomba Eléctrica',\n",
       "                   'ABA General',                       'Casetas',\n",
       " 'Extintores Polvo ABC Auto 9Kg',                    'Puertas RF',\n",
       "          'Exutorios Aireadores',                       'Botella',\n",
       "                       'BIES 45',                       'Báscula',\n",
       "                     'Manómetro']\n",
       "Length: 41, dtype: string"
      ]
     },
     "execution_count": 14,
     "metadata": {},
     "output_type": "execute_result"
    }
   ],
   "source": [
    "pd.unique(man['tipo'])"
   ]
  },
  {
   "cell_type": "markdown",
   "id": "e3d9d5ab",
   "metadata": {},
   "source": [
    "#### Determinem que volem 2000 registres i que els grups es seleccionin amb la columna tipo"
   ]
  },
  {
   "cell_type": "code",
   "execution_count": 16,
   "id": "3885edb9",
   "metadata": {},
   "outputs": [
    {
     "data": {
      "text/html": [
       "<div>\n",
       "<style scoped>\n",
       "    .dataframe tbody tr th:only-of-type {\n",
       "        vertical-align: middle;\n",
       "    }\n",
       "\n",
       "    .dataframe tbody tr th {\n",
       "        vertical-align: top;\n",
       "    }\n",
       "\n",
       "    .dataframe thead th {\n",
       "        text-align: right;\n",
       "    }\n",
       "</style>\n",
       "<table border=\"1\" class=\"dataframe\">\n",
       "  <thead>\n",
       "    <tr style=\"text-align: right;\">\n",
       "      <th></th>\n",
       "      <th>fe_al_det</th>\n",
       "      <th>id_cli2</th>\n",
       "      <th>id_serv2</th>\n",
       "      <th>serv</th>\n",
       "      <th>fe_al_man</th>\n",
       "      <th>id_man2</th>\n",
       "      <th>perivis</th>\n",
       "      <th>mes</th>\n",
       "      <th>dir</th>\n",
       "      <th>pob</th>\n",
       "      <th>pro</th>\n",
       "      <th>cp</th>\n",
       "      <th>pai</th>\n",
       "      <th>id_vehi2</th>\n",
       "      <th>bastidor</th>\n",
       "      <th>ubi</th>\n",
       "      <th>any</th>\n",
       "      <th>tipo</th>\n",
       "      <th>marca</th>\n",
       "    </tr>\n",
       "  </thead>\n",
       "  <tbody>\n",
       "    <tr>\n",
       "      <th>0</th>\n",
       "      <td>2018-11-02 06:40:55.027</td>\n",
       "      <td>1416</td>\n",
       "      <td>NaN</td>\n",
       "      <td>&lt;NA&gt;</td>\n",
       "      <td>2018-11-02 06:40:54.950</td>\n",
       "      <td>7931</td>\n",
       "      <td>90</td>\n",
       "      <td>11</td>\n",
       "      <td>SANTIAGO RUSIÑOL, 2</td>\n",
       "      <td>MOLINS DE REI</td>\n",
       "      <td>BARCELONA</td>\n",
       "      <td>8750.0</td>\n",
       "      <td>ESPAÑA</td>\n",
       "      <td>47463.0</td>\n",
       "      <td>071408</td>\n",
       "      <td>2 planta</td>\n",
       "      <td>2008.0</td>\n",
       "      <td>Extintores Polvo ABC 6Kg</td>\n",
       "      <td>EXMON</td>\n",
       "    </tr>\n",
       "    <tr>\n",
       "      <th>1</th>\n",
       "      <td>2019-01-02 07:46:16.397</td>\n",
       "      <td>24825</td>\n",
       "      <td>NaN</td>\n",
       "      <td>&lt;NA&gt;</td>\n",
       "      <td>2019-01-02 07:46:16.383</td>\n",
       "      <td>10918</td>\n",
       "      <td>360</td>\n",
       "      <td>1</td>\n",
       "      <td>DIAGONAL PUJADAS, 9</td>\n",
       "      <td>CARDEDEU</td>\n",
       "      <td>BARCELONA</td>\n",
       "      <td>8440.0</td>\n",
       "      <td>ESPAÑA</td>\n",
       "      <td>63846.0</td>\n",
       "      <td>07931</td>\n",
       "      <td>rampa</td>\n",
       "      <td>2003.0</td>\n",
       "      <td>BIES 25</td>\n",
       "      <td>MACOIN</td>\n",
       "    </tr>\n",
       "    <tr>\n",
       "      <th>2</th>\n",
       "      <td>2019-02-01 01:18:28.077</td>\n",
       "      <td>9454</td>\n",
       "      <td>NaN</td>\n",
       "      <td>&lt;NA&gt;</td>\n",
       "      <td>2019-02-01 01:18:27.980</td>\n",
       "      <td>11744</td>\n",
       "      <td>90</td>\n",
       "      <td>2</td>\n",
       "      <td>DIAGONAL, 33</td>\n",
       "      <td>CERDANYOLA DEL VALLES</td>\n",
       "      <td>BARCELONA</td>\n",
       "      <td>8290.0</td>\n",
       "      <td>ESPAÑA</td>\n",
       "      <td>68359.0</td>\n",
       "      <td>4894680</td>\n",
       "      <td>entre planta 3 y 2</td>\n",
       "      <td>2017.0</td>\n",
       "      <td>Extintores Polvo ABC 6Kg</td>\n",
       "      <td>EXFAEX</td>\n",
       "    </tr>\n",
       "    <tr>\n",
       "      <th>3</th>\n",
       "      <td>2019-03-01 04:55:30.557</td>\n",
       "      <td>23878</td>\n",
       "      <td>NaN</td>\n",
       "      <td>&lt;NA&gt;</td>\n",
       "      <td>2019-03-01 04:55:30.460</td>\n",
       "      <td>13414</td>\n",
       "      <td>360</td>\n",
       "      <td>3</td>\n",
       "      <td>ROQUETES, 8</td>\n",
       "      <td>EL VENDRELL</td>\n",
       "      <td>TARRAGONA</td>\n",
       "      <td>43700.0</td>\n",
       "      <td>ESPAÑA</td>\n",
       "      <td>76742.0</td>\n",
       "      <td>10198174</td>\n",
       "      <td>planta baja</td>\n",
       "      <td>2018.0</td>\n",
       "      <td>Extintores CO2 2Kg</td>\n",
       "      <td>EXFAEX</td>\n",
       "    </tr>\n",
       "    <tr>\n",
       "      <th>4</th>\n",
       "      <td>2018-05-09 09:33:23.920</td>\n",
       "      <td>18467</td>\n",
       "      <td>32.0</td>\n",
       "      <td>Revisión/Mantenimiento Extintor  POLVO ABC 6 KG</td>\n",
       "      <td>2018-05-09 09:33:23.840</td>\n",
       "      <td>495</td>\n",
       "      <td>90</td>\n",
       "      <td>5</td>\n",
       "      <td>SANT ESTEVE, 77</td>\n",
       "      <td>GRANOLLERS</td>\n",
       "      <td>BARCELONA</td>\n",
       "      <td>8400.0</td>\n",
       "      <td>ESPAÑA</td>\n",
       "      <td>3499.0</td>\n",
       "      <td>5060805</td>\n",
       "      <td>6°</td>\n",
       "      <td>2017.0</td>\n",
       "      <td>Extintores Polvo ABC 6Kg</td>\n",
       "      <td>EXFAEX</td>\n",
       "    </tr>\n",
       "  </tbody>\n",
       "</table>\n",
       "</div>"
      ],
      "text/plain": [
       "                fe_al_det  id_cli2  id_serv2  \\\n",
       "0 2018-11-02 06:40:55.027     1416       NaN   \n",
       "1 2019-01-02 07:46:16.397    24825       NaN   \n",
       "2 2019-02-01 01:18:28.077     9454       NaN   \n",
       "3 2019-03-01 04:55:30.557    23878       NaN   \n",
       "4 2018-05-09 09:33:23.920    18467      32.0   \n",
       "\n",
       "                                              serv               fe_al_man  \\\n",
       "0                                             <NA> 2018-11-02 06:40:54.950   \n",
       "1                                             <NA> 2019-01-02 07:46:16.383   \n",
       "2                                             <NA> 2019-02-01 01:18:27.980   \n",
       "3                                             <NA> 2019-03-01 04:55:30.460   \n",
       "4  Revisión/Mantenimiento Extintor  POLVO ABC 6 KG 2018-05-09 09:33:23.840   \n",
       "\n",
       "   id_man2  perivis  mes                  dir                    pob  \\\n",
       "0     7931       90   11  SANTIAGO RUSIÑOL, 2          MOLINS DE REI   \n",
       "1    10918      360    1  DIAGONAL PUJADAS, 9               CARDEDEU   \n",
       "2    11744       90    2         DIAGONAL, 33  CERDANYOLA DEL VALLES   \n",
       "3    13414      360    3          ROQUETES, 8            EL VENDRELL   \n",
       "4      495       90    5      SANT ESTEVE, 77             GRANOLLERS   \n",
       "\n",
       "          pro       cp     pai  id_vehi2  bastidor                 ubi  \\\n",
       "0   BARCELONA   8750.0  ESPAÑA   47463.0    071408            2 planta   \n",
       "1   BARCELONA   8440.0  ESPAÑA   63846.0     07931               rampa   \n",
       "2   BARCELONA   8290.0  ESPAÑA   68359.0   4894680  entre planta 3 y 2   \n",
       "3  TARRAGONA   43700.0  ESPAÑA   76742.0  10198174         planta baja   \n",
       "4   BARCELONA   8400.0  ESPAÑA    3499.0   5060805                  6°   \n",
       "\n",
       "      any                      tipo   marca  \n",
       "0  2008.0  Extintores Polvo ABC 6Kg   EXMON  \n",
       "1  2003.0                   BIES 25  MACOIN  \n",
       "2  2017.0  Extintores Polvo ABC 6Kg  EXFAEX  \n",
       "3  2018.0        Extintores CO2 2Kg  EXFAEX  \n",
       "4  2017.0  Extintores Polvo ABC 6Kg  EXFAEX  "
      ]
     },
     "execution_count": 16,
     "metadata": {},
     "output_type": "execute_result"
    }
   ],
   "source": [
    "numeroMuestres = 2000\n",
    "man.groupby('tipo', group_keys=False).apply(lambda x: x.sample(int(np.rint(numeroMuestres*len(x)/len(man))))).sample(frac=1).reset_index(drop=True).head()\n"
   ]
  },
  {
   "cell_type": "markdown",
   "id": "06d6a6f8",
   "metadata": {},
   "source": [
    "#### Generem una mostra utilitzant SMOTE"
   ]
  },
  {
   "cell_type": "markdown",
   "id": "f917012a",
   "metadata": {},
   "source": [
    "#### Visualitzem el tipo de elemens agrupats amb el nº d'elements"
   ]
  },
  {
   "cell_type": "code",
   "execution_count": 19,
   "id": "f0d1f206",
   "metadata": {},
   "outputs": [
    {
     "data": {
      "text/html": [
       "<div>\n",
       "<style scoped>\n",
       "    .dataframe tbody tr th:only-of-type {\n",
       "        vertical-align: middle;\n",
       "    }\n",
       "\n",
       "    .dataframe tbody tr th {\n",
       "        vertical-align: top;\n",
       "    }\n",
       "\n",
       "    .dataframe thead th {\n",
       "        text-align: right;\n",
       "    }\n",
       "</style>\n",
       "<table border=\"1\" class=\"dataframe\">\n",
       "  <thead>\n",
       "    <tr style=\"text-align: right;\">\n",
       "      <th></th>\n",
       "      <th>tipo</th>\n",
       "      <th>id_man2</th>\n",
       "    </tr>\n",
       "  </thead>\n",
       "  <tbody>\n",
       "    <tr>\n",
       "      <th>28</th>\n",
       "      <td>Extintores Polvo ABC 6Kg</td>\n",
       "      <td>41383</td>\n",
       "    </tr>\n",
       "    <tr>\n",
       "      <th>20</th>\n",
       "      <td>Extintores CO2 2Kg</td>\n",
       "      <td>12421</td>\n",
       "    </tr>\n",
       "    <tr>\n",
       "      <th>21</th>\n",
       "      <td>Extintores CO2 5Kg</td>\n",
       "      <td>3719</td>\n",
       "    </tr>\n",
       "    <tr>\n",
       "      <th>2</th>\n",
       "      <td>BIES 25</td>\n",
       "      <td>3022</td>\n",
       "    </tr>\n",
       "    <tr>\n",
       "      <th>14</th>\n",
       "      <td>Detección Convencional</td>\n",
       "      <td>1060</td>\n",
       "    </tr>\n",
       "    <tr>\n",
       "      <th>29</th>\n",
       "      <td>Extintores Polvo ABC 9Kg</td>\n",
       "      <td>762</td>\n",
       "    </tr>\n",
       "    <tr>\n",
       "      <th>1</th>\n",
       "      <td>Alumbrado de emergencia</td>\n",
       "      <td>576</td>\n",
       "    </tr>\n",
       "    <tr>\n",
       "      <th>11</th>\n",
       "      <td>Ches</td>\n",
       "      <td>576</td>\n",
       "    </tr>\n",
       "    <tr>\n",
       "      <th>12</th>\n",
       "      <td>Columna Seca</td>\n",
       "      <td>416</td>\n",
       "    </tr>\n",
       "    <tr>\n",
       "      <th>34</th>\n",
       "      <td>Gases con ventilación</td>\n",
       "      <td>275</td>\n",
       "    </tr>\n",
       "  </tbody>\n",
       "</table>\n",
       "</div>"
      ],
      "text/plain": [
       "                        tipo  id_man2\n",
       "28  Extintores Polvo ABC 6Kg    41383\n",
       "20        Extintores CO2 2Kg    12421\n",
       "21        Extintores CO2 5Kg     3719\n",
       "2                    BIES 25     3022\n",
       "14    Detección Convencional     1060\n",
       "29  Extintores Polvo ABC 9Kg      762\n",
       "1    Alumbrado de emergencia      576\n",
       "11                      Ches      576\n",
       "12              Columna Seca      416\n",
       "34     Gases con ventilación      275"
      ]
     },
     "execution_count": 19,
     "metadata": {},
     "output_type": "execute_result"
    }
   ],
   "source": [
    "man.groupby(['tipo'])['id_man2'].count().reset_index().sort_values(by=['id_man2'], ascending=False).head(10)"
   ]
  },
  {
   "cell_type": "markdown",
   "id": "d1323af7",
   "metadata": {},
   "source": [
    "#### Seleccionem el tipo 'Extintores Polvo ABC 6Kg' i el tipo 'Extintores CO2 5Kg'"
   ]
  },
  {
   "cell_type": "code",
   "execution_count": 20,
   "id": "3cbe30c1",
   "metadata": {},
   "outputs": [
    {
     "data": {
      "text/html": [
       "<div>\n",
       "<style scoped>\n",
       "    .dataframe tbody tr th:only-of-type {\n",
       "        vertical-align: middle;\n",
       "    }\n",
       "\n",
       "    .dataframe tbody tr th {\n",
       "        vertical-align: top;\n",
       "    }\n",
       "\n",
       "    .dataframe thead th {\n",
       "        text-align: right;\n",
       "    }\n",
       "</style>\n",
       "<table border=\"1\" class=\"dataframe\">\n",
       "  <thead>\n",
       "    <tr style=\"text-align: right;\">\n",
       "      <th></th>\n",
       "      <th>fe_al_det</th>\n",
       "      <th>id_cli2</th>\n",
       "      <th>id_serv2</th>\n",
       "      <th>serv</th>\n",
       "      <th>fe_al_man</th>\n",
       "      <th>id_man2</th>\n",
       "      <th>perivis</th>\n",
       "      <th>mes</th>\n",
       "      <th>dir</th>\n",
       "      <th>pob</th>\n",
       "      <th>pro</th>\n",
       "      <th>cp</th>\n",
       "      <th>pai</th>\n",
       "      <th>id_vehi2</th>\n",
       "      <th>bastidor</th>\n",
       "      <th>ubi</th>\n",
       "      <th>any</th>\n",
       "      <th>tipo</th>\n",
       "      <th>marca</th>\n",
       "    </tr>\n",
       "    <tr>\n",
       "      <th>id_mandet</th>\n",
       "      <th></th>\n",
       "      <th></th>\n",
       "      <th></th>\n",
       "      <th></th>\n",
       "      <th></th>\n",
       "      <th></th>\n",
       "      <th></th>\n",
       "      <th></th>\n",
       "      <th></th>\n",
       "      <th></th>\n",
       "      <th></th>\n",
       "      <th></th>\n",
       "      <th></th>\n",
       "      <th></th>\n",
       "      <th></th>\n",
       "      <th></th>\n",
       "      <th></th>\n",
       "      <th></th>\n",
       "      <th></th>\n",
       "    </tr>\n",
       "  </thead>\n",
       "  <tbody>\n",
       "    <tr>\n",
       "      <th>8498</th>\n",
       "      <td>2018-05-09 08:59:11.717</td>\n",
       "      <td>24133</td>\n",
       "      <td>32.0</td>\n",
       "      <td>Revisión/Mantenimiento Extintor  POLVO ABC 6 KG</td>\n",
       "      <td>2018-05-09 08:59:11.590</td>\n",
       "      <td>1</td>\n",
       "      <td>1800</td>\n",
       "      <td>9</td>\n",
       "      <td>RIAL PASCUAL 23</td>\n",
       "      <td>ARENYS DE MUNT</td>\n",
       "      <td>BARCELONA</td>\n",
       "      <td>&lt;NA&gt;</td>\n",
       "      <td>ESPAÑA</td>\n",
       "      <td>1.0</td>\n",
       "      <td>&lt;NA&gt;</td>\n",
       "      <td>taller</td>\n",
       "      <td>0.0</td>\n",
       "      <td>Extintores Polvo ABC 6Kg</td>\n",
       "      <td>EXFAEX</td>\n",
       "    </tr>\n",
       "    <tr>\n",
       "      <th>8499</th>\n",
       "      <td>2018-05-09 08:59:11.717</td>\n",
       "      <td>24133</td>\n",
       "      <td>32.0</td>\n",
       "      <td>Revisión/Mantenimiento Extintor  POLVO ABC 6 KG</td>\n",
       "      <td>2018-05-09 08:59:11.590</td>\n",
       "      <td>1</td>\n",
       "      <td>1800</td>\n",
       "      <td>9</td>\n",
       "      <td>RIAL PASCUAL 23</td>\n",
       "      <td>ARENYS DE MUNT</td>\n",
       "      <td>BARCELONA</td>\n",
       "      <td>&lt;NA&gt;</td>\n",
       "      <td>ESPAÑA</td>\n",
       "      <td>2.0</td>\n",
       "      <td>&lt;NA&gt;</td>\n",
       "      <td>taller</td>\n",
       "      <td>0.0</td>\n",
       "      <td>Extintores Polvo ABC 6Kg</td>\n",
       "      <td>EXFAEX</td>\n",
       "    </tr>\n",
       "    <tr>\n",
       "      <th>8500</th>\n",
       "      <td>2018-05-09 08:59:26.717</td>\n",
       "      <td>25847</td>\n",
       "      <td>32.0</td>\n",
       "      <td>Revisión/Mantenimiento Extintor  POLVO ABC 6 KG</td>\n",
       "      <td>2018-05-09 08:59:26.590</td>\n",
       "      <td>2</td>\n",
       "      <td>360</td>\n",
       "      <td>2</td>\n",
       "      <td>RICART 46-48</td>\n",
       "      <td>SANT ADRIÀ DEL BESOS</td>\n",
       "      <td>BARCELONA</td>\n",
       "      <td>8930.0</td>\n",
       "      <td>ESPAÑA</td>\n",
       "      <td>3.0</td>\n",
       "      <td>4165549</td>\n",
       "      <td>3 planta</td>\n",
       "      <td>2014.0</td>\n",
       "      <td>Extintores Polvo ABC 6Kg</td>\n",
       "      <td>EXFAEX</td>\n",
       "    </tr>\n",
       "    <tr>\n",
       "      <th>8501</th>\n",
       "      <td>2018-05-09 08:59:26.717</td>\n",
       "      <td>25847</td>\n",
       "      <td>32.0</td>\n",
       "      <td>Revisión/Mantenimiento Extintor  POLVO ABC 6 KG</td>\n",
       "      <td>2018-05-09 08:59:26.590</td>\n",
       "      <td>2</td>\n",
       "      <td>360</td>\n",
       "      <td>2</td>\n",
       "      <td>RICART 46-48</td>\n",
       "      <td>SANT ADRIÀ DEL BESOS</td>\n",
       "      <td>BARCELONA</td>\n",
       "      <td>8930.0</td>\n",
       "      <td>ESPAÑA</td>\n",
       "      <td>4.0</td>\n",
       "      <td>1637383</td>\n",
       "      <td>4 planta</td>\n",
       "      <td>2004.0</td>\n",
       "      <td>Extintores Polvo ABC 6Kg</td>\n",
       "      <td>EXFAEX</td>\n",
       "    </tr>\n",
       "    <tr>\n",
       "      <th>8503</th>\n",
       "      <td>2018-05-09 08:59:26.730</td>\n",
       "      <td>25847</td>\n",
       "      <td>32.0</td>\n",
       "      <td>Revisión/Mantenimiento Extintor  POLVO ABC 6 KG</td>\n",
       "      <td>2018-05-09 08:59:26.590</td>\n",
       "      <td>2</td>\n",
       "      <td>360</td>\n",
       "      <td>2</td>\n",
       "      <td>RICART 46-48</td>\n",
       "      <td>SANT ADRIÀ DEL BESOS</td>\n",
       "      <td>BARCELONA</td>\n",
       "      <td>8930.0</td>\n",
       "      <td>ESPAÑA</td>\n",
       "      <td>6.0</td>\n",
       "      <td>1486256</td>\n",
       "      <td>Ascensor</td>\n",
       "      <td>2004.0</td>\n",
       "      <td>Extintores Polvo ABC 6Kg</td>\n",
       "      <td>EXFAEX</td>\n",
       "    </tr>\n",
       "  </tbody>\n",
       "</table>\n",
       "</div>"
      ],
      "text/plain": [
       "                        fe_al_det  id_cli2  id_serv2  \\\n",
       "id_mandet                                              \n",
       "8498      2018-05-09 08:59:11.717    24133      32.0   \n",
       "8499      2018-05-09 08:59:11.717    24133      32.0   \n",
       "8500      2018-05-09 08:59:26.717    25847      32.0   \n",
       "8501      2018-05-09 08:59:26.717    25847      32.0   \n",
       "8503      2018-05-09 08:59:26.730    25847      32.0   \n",
       "\n",
       "                                                      serv  \\\n",
       "id_mandet                                                    \n",
       "8498       Revisión/Mantenimiento Extintor  POLVO ABC 6 KG   \n",
       "8499       Revisión/Mantenimiento Extintor  POLVO ABC 6 KG   \n",
       "8500       Revisión/Mantenimiento Extintor  POLVO ABC 6 KG   \n",
       "8501       Revisión/Mantenimiento Extintor  POLVO ABC 6 KG   \n",
       "8503       Revisión/Mantenimiento Extintor  POLVO ABC 6 KG   \n",
       "\n",
       "                        fe_al_man  id_man2  perivis  mes              dir  \\\n",
       "id_mandet                                                                   \n",
       "8498      2018-05-09 08:59:11.590        1     1800    9  RIAL PASCUAL 23   \n",
       "8499      2018-05-09 08:59:11.590        1     1800    9  RIAL PASCUAL 23   \n",
       "8500      2018-05-09 08:59:26.590        2      360    2     RICART 46-48   \n",
       "8501      2018-05-09 08:59:26.590        2      360    2     RICART 46-48   \n",
       "8503      2018-05-09 08:59:26.590        2      360    2     RICART 46-48   \n",
       "\n",
       "                            pob        pro      cp     pai  id_vehi2 bastidor  \\\n",
       "id_mandet                                                                       \n",
       "8498             ARENYS DE MUNT  BARCELONA    <NA>  ESPAÑA       1.0     <NA>   \n",
       "8499             ARENYS DE MUNT  BARCELONA    <NA>  ESPAÑA       2.0     <NA>   \n",
       "8500       SANT ADRIÀ DEL BESOS  BARCELONA  8930.0  ESPAÑA       3.0  4165549   \n",
       "8501       SANT ADRIÀ DEL BESOS  BARCELONA  8930.0  ESPAÑA       4.0  1637383   \n",
       "8503       SANT ADRIÀ DEL BESOS  BARCELONA  8930.0  ESPAÑA       6.0  1486256   \n",
       "\n",
       "                ubi     any                      tipo   marca  \n",
       "id_mandet                                                      \n",
       "8498         taller     0.0  Extintores Polvo ABC 6Kg  EXFAEX  \n",
       "8499         taller     0.0  Extintores Polvo ABC 6Kg  EXFAEX  \n",
       "8500       3 planta  2014.0  Extintores Polvo ABC 6Kg  EXFAEX  \n",
       "8501       4 planta  2004.0  Extintores Polvo ABC 6Kg  EXFAEX  \n",
       "8503       Ascensor  2004.0  Extintores Polvo ABC 6Kg  EXFAEX  "
      ]
     },
     "execution_count": 20,
     "metadata": {},
     "output_type": "execute_result"
    }
   ],
   "source": [
    "smo=man[(man['tipo'] == 'Extintores Polvo ABC 6Kg') | (man['tipo'] == 'Extintores CO2 5Kg')]\n",
    "smo.head()\n"
   ]
  },
  {
   "cell_type": "markdown",
   "id": "c5733ac8",
   "metadata": {},
   "source": [
    "#### Eliminem els registres amb algun NaN, per fer-ho mes ràpid, ja que no poden haver NaNs ens els camps, sino dona error."
   ]
  },
  {
   "cell_type": "code",
   "execution_count": 21,
   "id": "64db0e98",
   "metadata": {},
   "outputs": [
    {
     "data": {
      "text/html": [
       "<div>\n",
       "<style scoped>\n",
       "    .dataframe tbody tr th:only-of-type {\n",
       "        vertical-align: middle;\n",
       "    }\n",
       "\n",
       "    .dataframe tbody tr th {\n",
       "        vertical-align: top;\n",
       "    }\n",
       "\n",
       "    .dataframe thead th {\n",
       "        text-align: right;\n",
       "    }\n",
       "</style>\n",
       "<table border=\"1\" class=\"dataframe\">\n",
       "  <thead>\n",
       "    <tr style=\"text-align: right;\">\n",
       "      <th></th>\n",
       "      <th>fe_al_det</th>\n",
       "      <th>id_cli2</th>\n",
       "      <th>id_serv2</th>\n",
       "      <th>serv</th>\n",
       "      <th>fe_al_man</th>\n",
       "      <th>id_man2</th>\n",
       "      <th>perivis</th>\n",
       "      <th>mes</th>\n",
       "      <th>dir</th>\n",
       "      <th>pob</th>\n",
       "      <th>pro</th>\n",
       "      <th>cp</th>\n",
       "      <th>pai</th>\n",
       "      <th>id_vehi2</th>\n",
       "      <th>bastidor</th>\n",
       "      <th>ubi</th>\n",
       "      <th>any</th>\n",
       "      <th>tipo</th>\n",
       "      <th>marca</th>\n",
       "    </tr>\n",
       "    <tr>\n",
       "      <th>id_mandet</th>\n",
       "      <th></th>\n",
       "      <th></th>\n",
       "      <th></th>\n",
       "      <th></th>\n",
       "      <th></th>\n",
       "      <th></th>\n",
       "      <th></th>\n",
       "      <th></th>\n",
       "      <th></th>\n",
       "      <th></th>\n",
       "      <th></th>\n",
       "      <th></th>\n",
       "      <th></th>\n",
       "      <th></th>\n",
       "      <th></th>\n",
       "      <th></th>\n",
       "      <th></th>\n",
       "      <th></th>\n",
       "      <th></th>\n",
       "    </tr>\n",
       "  </thead>\n",
       "  <tbody>\n",
       "    <tr>\n",
       "      <th>8500</th>\n",
       "      <td>2018-05-09 08:59:26.717</td>\n",
       "      <td>25847</td>\n",
       "      <td>32.0</td>\n",
       "      <td>Revisión/Mantenimiento Extintor  POLVO ABC 6 KG</td>\n",
       "      <td>2018-05-09 08:59:26.590</td>\n",
       "      <td>2</td>\n",
       "      <td>360</td>\n",
       "      <td>2</td>\n",
       "      <td>RICART 46-48</td>\n",
       "      <td>SANT ADRIÀ DEL BESOS</td>\n",
       "      <td>BARCELONA</td>\n",
       "      <td>8930.0</td>\n",
       "      <td>ESPAÑA</td>\n",
       "      <td>3.0</td>\n",
       "      <td>4165549</td>\n",
       "      <td>3 planta</td>\n",
       "      <td>2014.0</td>\n",
       "      <td>Extintores Polvo ABC 6Kg</td>\n",
       "      <td>EXFAEX</td>\n",
       "    </tr>\n",
       "    <tr>\n",
       "      <th>8501</th>\n",
       "      <td>2018-05-09 08:59:26.717</td>\n",
       "      <td>25847</td>\n",
       "      <td>32.0</td>\n",
       "      <td>Revisión/Mantenimiento Extintor  POLVO ABC 6 KG</td>\n",
       "      <td>2018-05-09 08:59:26.590</td>\n",
       "      <td>2</td>\n",
       "      <td>360</td>\n",
       "      <td>2</td>\n",
       "      <td>RICART 46-48</td>\n",
       "      <td>SANT ADRIÀ DEL BESOS</td>\n",
       "      <td>BARCELONA</td>\n",
       "      <td>8930.0</td>\n",
       "      <td>ESPAÑA</td>\n",
       "      <td>4.0</td>\n",
       "      <td>1637383</td>\n",
       "      <td>4 planta</td>\n",
       "      <td>2004.0</td>\n",
       "      <td>Extintores Polvo ABC 6Kg</td>\n",
       "      <td>EXFAEX</td>\n",
       "    </tr>\n",
       "    <tr>\n",
       "      <th>8503</th>\n",
       "      <td>2018-05-09 08:59:26.730</td>\n",
       "      <td>25847</td>\n",
       "      <td>32.0</td>\n",
       "      <td>Revisión/Mantenimiento Extintor  POLVO ABC 6 KG</td>\n",
       "      <td>2018-05-09 08:59:26.590</td>\n",
       "      <td>2</td>\n",
       "      <td>360</td>\n",
       "      <td>2</td>\n",
       "      <td>RICART 46-48</td>\n",
       "      <td>SANT ADRIÀ DEL BESOS</td>\n",
       "      <td>BARCELONA</td>\n",
       "      <td>8930.0</td>\n",
       "      <td>ESPAÑA</td>\n",
       "      <td>6.0</td>\n",
       "      <td>1486256</td>\n",
       "      <td>Ascensor</td>\n",
       "      <td>2004.0</td>\n",
       "      <td>Extintores Polvo ABC 6Kg</td>\n",
       "      <td>EXFAEX</td>\n",
       "    </tr>\n",
       "    <tr>\n",
       "      <th>8504</th>\n",
       "      <td>2018-05-09 08:59:26.730</td>\n",
       "      <td>25847</td>\n",
       "      <td>32.0</td>\n",
       "      <td>Revisión/Mantenimiento Extintor  POLVO ABC 6 KG</td>\n",
       "      <td>2018-05-09 08:59:26.590</td>\n",
       "      <td>2</td>\n",
       "      <td>360</td>\n",
       "      <td>2</td>\n",
       "      <td>RICART 46-48</td>\n",
       "      <td>SANT ADRIÀ DEL BESOS</td>\n",
       "      <td>BARCELONA</td>\n",
       "      <td>8930.0</td>\n",
       "      <td>ESPAÑA</td>\n",
       "      <td>7.0</td>\n",
       "      <td>1628082</td>\n",
       "      <td>2a planta</td>\n",
       "      <td>2004.0</td>\n",
       "      <td>Extintores Polvo ABC 6Kg</td>\n",
       "      <td>EXFAEX</td>\n",
       "    </tr>\n",
       "    <tr>\n",
       "      <th>8505</th>\n",
       "      <td>2018-05-09 08:59:26.730</td>\n",
       "      <td>25847</td>\n",
       "      <td>32.0</td>\n",
       "      <td>Revisión/Mantenimiento Extintor  POLVO ABC 6 KG</td>\n",
       "      <td>2018-05-09 08:59:26.590</td>\n",
       "      <td>2</td>\n",
       "      <td>360</td>\n",
       "      <td>2</td>\n",
       "      <td>RICART 46-48</td>\n",
       "      <td>SANT ADRIÀ DEL BESOS</td>\n",
       "      <td>BARCELONA</td>\n",
       "      <td>8930.0</td>\n",
       "      <td>ESPAÑA</td>\n",
       "      <td>8.0</td>\n",
       "      <td>1637382</td>\n",
       "      <td>1a planta</td>\n",
       "      <td>2004.0</td>\n",
       "      <td>Extintores Polvo ABC 6Kg</td>\n",
       "      <td>EXFAEX</td>\n",
       "    </tr>\n",
       "  </tbody>\n",
       "</table>\n",
       "</div>"
      ],
      "text/plain": [
       "                        fe_al_det  id_cli2  id_serv2  \\\n",
       "id_mandet                                              \n",
       "8500      2018-05-09 08:59:26.717    25847      32.0   \n",
       "8501      2018-05-09 08:59:26.717    25847      32.0   \n",
       "8503      2018-05-09 08:59:26.730    25847      32.0   \n",
       "8504      2018-05-09 08:59:26.730    25847      32.0   \n",
       "8505      2018-05-09 08:59:26.730    25847      32.0   \n",
       "\n",
       "                                                      serv  \\\n",
       "id_mandet                                                    \n",
       "8500       Revisión/Mantenimiento Extintor  POLVO ABC 6 KG   \n",
       "8501       Revisión/Mantenimiento Extintor  POLVO ABC 6 KG   \n",
       "8503       Revisión/Mantenimiento Extintor  POLVO ABC 6 KG   \n",
       "8504       Revisión/Mantenimiento Extintor  POLVO ABC 6 KG   \n",
       "8505       Revisión/Mantenimiento Extintor  POLVO ABC 6 KG   \n",
       "\n",
       "                        fe_al_man  id_man2  perivis  mes           dir  \\\n",
       "id_mandet                                                                \n",
       "8500      2018-05-09 08:59:26.590        2      360    2  RICART 46-48   \n",
       "8501      2018-05-09 08:59:26.590        2      360    2  RICART 46-48   \n",
       "8503      2018-05-09 08:59:26.590        2      360    2  RICART 46-48   \n",
       "8504      2018-05-09 08:59:26.590        2      360    2  RICART 46-48   \n",
       "8505      2018-05-09 08:59:26.590        2      360    2  RICART 46-48   \n",
       "\n",
       "                            pob        pro      cp     pai  id_vehi2 bastidor  \\\n",
       "id_mandet                                                                       \n",
       "8500       SANT ADRIÀ DEL BESOS  BARCELONA  8930.0  ESPAÑA       3.0  4165549   \n",
       "8501       SANT ADRIÀ DEL BESOS  BARCELONA  8930.0  ESPAÑA       4.0  1637383   \n",
       "8503       SANT ADRIÀ DEL BESOS  BARCELONA  8930.0  ESPAÑA       6.0  1486256   \n",
       "8504       SANT ADRIÀ DEL BESOS  BARCELONA  8930.0  ESPAÑA       7.0  1628082   \n",
       "8505       SANT ADRIÀ DEL BESOS  BARCELONA  8930.0  ESPAÑA       8.0  1637382   \n",
       "\n",
       "                 ubi     any                      tipo   marca  \n",
       "id_mandet                                                       \n",
       "8500        3 planta  2014.0  Extintores Polvo ABC 6Kg  EXFAEX  \n",
       "8501        4 planta  2004.0  Extintores Polvo ABC 6Kg  EXFAEX  \n",
       "8503        Ascensor  2004.0  Extintores Polvo ABC 6Kg  EXFAEX  \n",
       "8504       2a planta  2004.0  Extintores Polvo ABC 6Kg  EXFAEX  \n",
       "8505       1a planta  2004.0  Extintores Polvo ABC 6Kg  EXFAEX  "
      ]
     },
     "execution_count": 21,
     "metadata": {},
     "output_type": "execute_result"
    }
   ],
   "source": [
    "#smo[smo.isna().any(axis=1)]\n",
    "smo=smo.dropna()\n",
    "smo.head()"
   ]
  },
  {
   "cell_type": "markdown",
   "id": "183cfcf8",
   "metadata": {},
   "source": [
    "#### Visualitzem els valors que hem agafar per comprovar que està desequilibrats"
   ]
  },
  {
   "cell_type": "code",
   "execution_count": 22,
   "id": "a147c0c1",
   "metadata": {},
   "outputs": [
    {
     "data": {
      "text/plain": [
       "Extintores Polvo ABC 6Kg    15209\n",
       "Extintores CO2 5Kg           1630\n",
       "Name: tipo, dtype: Int64"
      ]
     },
     "execution_count": 22,
     "metadata": {},
     "output_type": "execute_result"
    }
   ],
   "source": [
    "smo['tipo'].value_counts()"
   ]
  },
  {
   "cell_type": "markdown",
   "id": "df4e0ae5",
   "metadata": {},
   "source": [
    "#### També fem una gràfica per veure-ho mes visual"
   ]
  },
  {
   "cell_type": "code",
   "execution_count": 23,
   "id": "5c2bad89",
   "metadata": {},
   "outputs": [
    {
     "data": {
      "image/png": "[encoded data removed]",
      "text/plain": [
       "<Figure size 432x288 with 1 Axes>"
      ]
     },
     "metadata": {
      "needs_background": "light"
     },
     "output_type": "display_data"
    }
   ],
   "source": [
    "smo.tipo.value_counts().plot(kind='bar', title='Count (target)');"
   ]
  },
  {
   "cell_type": "markdown",
   "id": "e9f84cf9",
   "metadata": {},
   "source": [
    "#### Importem llibreries"
   ]
  },
  {
   "cell_type": "code",
   "execution_count": 24,
   "id": "13631621",
   "metadata": {},
   "outputs": [],
   "source": [
    "from random import randrange, uniform\n",
    "from sklearn.neighbors import NearestNeighbors\n",
    "import numpy as np\n",
    "import pandas as pd\n",
    "from sklearn.ensemble import RandomForestClassifier\n",
    "from sklearn.model_selection import train_test_split\n",
    "from sklearn.metrics import confusion_matrix, recall_score"
   ]
  },
  {
   "cell_type": "markdown",
   "id": "8357a2f9",
   "metadata": {},
   "source": [
    "#### Eliminem les dimensions temporals i canviem el tipus de camp a int64"
   ]
  },
  {
   "cell_type": "code",
   "execution_count": 25,
   "id": "d0327b73",
   "metadata": {},
   "outputs": [],
   "source": [
    "#smo['tipo'].value_counts()\n",
    "smo = smo.drop(['fe_al_det'], axis=1)\n",
    "smo = smo.drop(['fe_al_man'], axis=1)\n",
    "smo['id_serv2'] = smo['id_serv2'].astype(np.int64)\n",
    "smo['id_vehi2'] = smo['id_vehi2'].astype(np.int64)\n",
    "smo['any'] = smo['any'].astype(np.int64)"
   ]
  },
  {
   "cell_type": "markdown",
   "id": "8435a7eb",
   "metadata": {},
   "source": [
    "#### Agrupem dades per poder fer el SMOTE i construim la columna extabc que es un camp boolea per representar com a 1 'Extintores Polvo ABC 6Kg' , i com a 0 'Extintores CO2 5Kg'. Despres eliminem la columna 'tipo'."
   ]
  },
  {
   "cell_type": "code",
   "execution_count": 26,
   "id": "da5166c5",
   "metadata": {},
   "outputs": [],
   "source": [
    "smo2=smo.groupby(['tipo','mes','cp'])['id_man2'].count().reset_index()\n",
    "smo2['extabc']=smo2['tipo'].str.contains('Extintores Polvo ABC 6Kg')\n",
    "smo2 = smo2.drop(['tipo'], axis=1)\n"
   ]
  },
  {
   "cell_type": "markdown",
   "id": "c0981ed1",
   "metadata": {},
   "source": [
    "#### Visualitzem com han quedat les dades en una gràfica, i podem observar el desequilibri que tenim entre els dos valors"
   ]
  },
  {
   "cell_type": "code",
   "execution_count": 27,
   "id": "5db77c40",
   "metadata": {},
   "outputs": [
    {
     "data": {
      "text/plain": [
       "Text(0, 0.5, 'Tipo elemento')"
      ]
     },
     "execution_count": 27,
     "metadata": {},
     "output_type": "execute_result"
    },
    {
     "data": {
      "image/png": "[encoded data removed]",
      "text/plain": [
       "<Figure size 432x288 with 1 Axes>"
      ]
     },
     "metadata": {
      "needs_background": "light"
     },
     "output_type": "display_data"
    }
   ],
   "source": [
    "smo2.extabc.value_counts().plot(kind='bar', title='Contamos por extabc');\n",
    "plt.xlabel('Nº elementos')\n",
    "plt.ylabel('Tipo elemento')\n"
   ]
  },
  {
   "cell_type": "markdown",
   "id": "db9f38c8",
   "metadata": {},
   "source": [
    "#### Importem la llibreria SMOTE"
   ]
  },
  {
   "cell_type": "code",
   "execution_count": 42,
   "id": "35fd2db5",
   "metadata": {},
   "outputs": [],
   "source": [
    "from imblearn.over_sampling import SMOTE"
   ]
  },
  {
   "cell_type": "markdown",
   "id": "9ba6beec",
   "metadata": {},
   "source": [
    "#### Dividim el conjunt de dades en característiques i etiquetes."
   ]
  },
  {
   "cell_type": "code",
   "execution_count": 34,
   "id": "1c7f4f6c",
   "metadata": {},
   "outputs": [],
   "source": [
    "X = smo2.drop(['extabc'], axis=1)\n",
    "X = X.drop(['cp'], axis=1)\n",
    "#X.reset_index(drop=True, inplace=True)\n",
    "y = smo2['extabc']\n",
    "y=y.astype('int')\n",
    "#X.dtypes\n"
   ]
  },
  {
   "cell_type": "markdown",
   "id": "0a55606e",
   "metadata": {},
   "source": [
    "#### Apliquem el mètode SMOTE"
   ]
  },
  {
   "cell_type": "code",
   "execution_count": 35,
   "id": "603c2c36",
   "metadata": {},
   "outputs": [],
   "source": [
    "oversample = SMOTE()\n",
    "X, y = oversample.fit_resample(X, y)"
   ]
  },
  {
   "cell_type": "markdown",
   "id": "9a1a6eec",
   "metadata": {},
   "source": [
    "#### Visualitzem les dades processades en una gràfica"
   ]
  },
  {
   "cell_type": "code",
   "execution_count": 36,
   "id": "37545517",
   "metadata": {},
   "outputs": [
    {
     "data": {
      "text/plain": [
       "0    1157\n",
       "1    1157\n",
       "Name: extabc, dtype: int64"
      ]
     },
     "execution_count": 36,
     "metadata": {},
     "output_type": "execute_result"
    },
    {
     "data": {
      "image/png": "[encoded data removed]",
      "text/plain": [
       "<Figure size 432x288 with 1 Axes>"
      ]
     },
     "metadata": {
      "needs_background": "light"
     },
     "output_type": "display_data"
    }
   ],
   "source": [
    "pd.value_counts(y).plot.bar()\n",
    "plt.title('Contamos por extabc')\n",
    "plt.xlabel('Nº elementos')\n",
    "plt.ylabel('Tipo elemento')\n",
    "y.value_counts()"
   ]
  },
  {
   "cell_type": "markdown",
   "id": "0b2e1453",
   "metadata": {},
   "source": [
    "#### Conclusió: Ha ampliat el nombre de valors de la columna minoritaria, sense reduir la columna majoritaria, aconseguint que no tinguem desequilibri entre les dos dades."
   ]
  },
  {
   "cell_type": "markdown",
   "id": "2c917a00",
   "metadata": {},
   "source": [
    "# Exercici 3"
   ]
  },
  {
   "cell_type": "markdown",
   "id": "5f5b2103",
   "metadata": {},
   "source": [
    "#### Continua amb el conjunt de dades de tema esportiu i genera una mostra utilitzant el mètode Reservoir sampling."
   ]
  },
  {
   "cell_type": "markdown",
   "id": "0575db19",
   "metadata": {},
   "source": [
    "#### Reservoir sampling es un algoritme aleatori que s'utiliza para seleccionar k elements de n mostres, on n es usualment molt gran o desconegut. "
   ]
  },
  {
   "cell_type": "markdown",
   "id": "cb62b872",
   "metadata": {},
   "source": [
    "#### Algotime"
   ]
  },
  {
   "cell_type": "markdown",
   "id": "4f33da17",
   "metadata": {},
   "source": [
    "#### 1. Copia els primers k elements de l'array d'entrada al array de sortida\n",
    "#### 2. Itera de k a n-1 (amb els dos inclosos). En cada iteració j:"
   ]
  },
  {
   "cell_type": "markdown",
   "id": "cea82581",
   "metadata": {},
   "source": [
    "#### 2.1 Generar un número aleatori entre 0 i j"
   ]
  },
  {
   "cell_type": "markdown",
   "id": "4c689e9d",
   "metadata": {},
   "source": [
    "#### 2.2 Sí el número es mes gran que k, substituim l'element amb index (aleatori) en l'array de sortida amb el item del array j de l'array d'entrada"
   ]
  },
  {
   "cell_type": "markdown",
   "id": "d7802d6b",
   "metadata": {},
   "source": [
    "#### Aquí deixo l'exemple amb un array petita"
   ]
  },
  {
   "cell_type": "code",
   "execution_count": 37,
   "id": "4b25f6f5",
   "metadata": {},
   "outputs": [
    {
     "name": "stdout",
     "output_type": "stream",
     "text": [
      "Input array:\n",
      "[1, 7, 4, 8, 2, 6, 5, 9]\n",
      "Output array:\n",
      "[1, 9, 4, 8]\n"
     ]
    }
   ],
   "source": [
    "# Including dependancies\n",
    "import random\n",
    "# Defining the parameters\n",
    "n = 8\n",
    "k = 4\n",
    "# The array to be sampled\n",
    "input_array = [1, 7, 4, 8, 2, 6, 5, 9]\n",
    "output = []\n",
    "# Initializing the output array to the first k elements\n",
    "# of the input array\n",
    "for i in range(k):\n",
    "  output.append(input_array[i])\n",
    "# Iterating over k to n-1\n",
    "for j in range(k,n):\n",
    "  # Generating a random number\n",
    "  index = random.randint(0, j)\n",
    "  # Replacing an element in the  output with an element\n",
    "  # in the input if the randomly generated number is less\n",
    "  # than k.\n",
    "  if index < k:\n",
    "    output[index] = input_array[j]\n",
    "print(\"Input array:\")\n",
    "print(input_array)\n",
    "print(\"Output array:\")\n",
    "print(output)"
   ]
  },
  {
   "cell_type": "markdown",
   "id": "7e7cd534",
   "metadata": {},
   "source": [
    "#### Ara ho representem amb el meu dataframe. Agafem 500 registres (k) aleatoris del nostre DataFrame."
   ]
  },
  {
   "cell_type": "code",
   "execution_count": 43,
   "id": "3a1f5bd4",
   "metadata": {},
   "outputs": [],
   "source": [
    "n=smo2['extabc'].count()\n",
    "k=500\n",
    "input_array = smo2.index.tolist()\n",
    "f=[]\n",
    "for i in range(k):\n",
    "  f.append(input_array[i])\n",
    "for j in range(k,n):\n",
    "    index = random.randint(0, j)\n",
    "    if index < k:\n",
    "        f[index] = input_array[j]\n",
    "smo4 = pd.DataFrame(index=smo2.index[f].values)"
   ]
  },
  {
   "cell_type": "markdown",
   "id": "565177d2",
   "metadata": {},
   "source": [
    "#### Revisem que el nou DataFrame tingui els 500 resultats que volem"
   ]
  },
  {
   "cell_type": "code",
   "execution_count": 44,
   "id": "f8de2f02",
   "metadata": {},
   "outputs": [
    {
     "data": {
      "text/plain": [
       "500"
      ]
     },
     "execution_count": 44,
     "metadata": {},
     "output_type": "execute_result"
    }
   ],
   "source": [
    "len(smo4)"
   ]
  },
  {
   "cell_type": "markdown",
   "id": "6eb670c5",
   "metadata": {},
   "source": [
    "#### Links de interes per mi"
   ]
  },
  {
   "cell_type": "markdown",
   "id": "81704297",
   "metadata": {},
   "source": [
    "https://www.educative.io/edpresso/what-is-reservoir-sampling\n",
    "https://moonbooks.org/Articles/How-to-create-a-random-sample-with-a-reservoir-using-pandas-in-python-/\n",
    "https://www.geeksforgeeks.org/reservoir-sampling/\n",
    "https://medium.com/@er.archiejain/balance-the-imbalanced-datasets-smote-810c2f13ce16\n",
    "https://machinelearningmastery.com/smote-oversampling-for-imbalanced-classification/\n",
    "https://www.python-graph-gallery.com/"
   ]
  }
 ],
 "metadata": {
  "kernelspec": {
   "display_name": "Python 3 (ipykernel)",
   "language": "python",
   "name": "python3"
  },
  "language_info": {
   "codemirror_mode": {
    "name": "ipython",
    "version": 3
   },
   "file_extension": ".py",
   "mimetype": "text/x-python",
   "name": "python",
   "nbconvert_exporter": "python",
   "pygments_lexer": "ipython3",
   "version": "3.9.12"
  }
 },
 "nbformat": 4,
 "nbformat_minor": 5
}
